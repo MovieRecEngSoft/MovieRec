{
 "cells": [
  {
   "cell_type": "code",
   "execution_count": 1,
   "metadata": {},
   "outputs": [],
   "source": [
    "import pandas as pd\n",
    "import ast"
   ]
  },
  {
   "cell_type": "markdown",
   "metadata": {},
   "source": [
    "# Recomendação de filmes a partir de um\n",
    "\n",
    "\n",
    "Esse notebook visa comprovar a viabilidade de implementação de estratégias de recomendação baseadas em dados de um filme, para serem disponibilizadas no MovieRec.\n",
    "\n",
    "\n",
    "**Dataset**: [\"The Movies Dataset\"](https://www.kaggle.com/rounakbanik/the-movies-dataset), disponível no Kaggle em 02/09/2020\n",
    "\n",
    "**Atenção:** Para execução desse notebook, é necessário download externo dos arquivos do dataset, que não estão disponíveis no repositório do MovieRec. "
   ]
  },
  {
   "cell_type": "markdown",
   "metadata": {},
   "source": [
    "# Carregamento de dados"
   ]
  },
  {
   "cell_type": "markdown",
   "metadata": {},
   "source": [
    "O arquivo keywords.csv contém as palavras-chave que categorizam um filme."
   ]
  },
  {
   "cell_type": "code",
   "execution_count": 29,
   "metadata": {},
   "outputs": [
    {
     "output_type": "execute_result",
     "data": {
      "text/plain": "      id                                           keywords\n0    862  [{'id': 931, 'name': 'jealousy'}, {'id': 4290,...\n1   8844  [{'id': 10090, 'name': 'board game'}, {'id': 1...\n2  15602  [{'id': 1495, 'name': 'fishing'}, {'id': 12392...\n3  31357  [{'id': 818, 'name': 'based on novel'}, {'id':...\n4  11862  [{'id': 1009, 'name': 'baby'}, {'id': 1599, 'n...",
      "text/html": "<div>\n<style scoped>\n    .dataframe tbody tr th:only-of-type {\n        vertical-align: middle;\n    }\n\n    .dataframe tbody tr th {\n        vertical-align: top;\n    }\n\n    .dataframe thead th {\n        text-align: right;\n    }\n</style>\n<table border=\"1\" class=\"dataframe\">\n  <thead>\n    <tr style=\"text-align: right;\">\n      <th></th>\n      <th>id</th>\n      <th>keywords</th>\n    </tr>\n  </thead>\n  <tbody>\n    <tr>\n      <th>0</th>\n      <td>862</td>\n      <td>[{'id': 931, 'name': 'jealousy'}, {'id': 4290,...</td>\n    </tr>\n    <tr>\n      <th>1</th>\n      <td>8844</td>\n      <td>[{'id': 10090, 'name': 'board game'}, {'id': 1...</td>\n    </tr>\n    <tr>\n      <th>2</th>\n      <td>15602</td>\n      <td>[{'id': 1495, 'name': 'fishing'}, {'id': 12392...</td>\n    </tr>\n    <tr>\n      <th>3</th>\n      <td>31357</td>\n      <td>[{'id': 818, 'name': 'based on novel'}, {'id':...</td>\n    </tr>\n    <tr>\n      <th>4</th>\n      <td>11862</td>\n      <td>[{'id': 1009, 'name': 'baby'}, {'id': 1599, 'n...</td>\n    </tr>\n  </tbody>\n</table>\n</div>"
     },
     "metadata": {},
     "execution_count": 29
    }
   ],
   "source": [
    "keywords = pd.read_csv(\n",
    "    \"keywords.csv\",\n",
    "    dtype={\n",
    "        'id': 'UInt32',\n",
    "        'keywords': 'string'\n",
    "    }\n",
    ")\n",
    "keywords.head()"
   ]
  },
  {
   "cell_type": "markdown",
   "metadata": {},
   "source": [
    "O arquivo movies_metadata.csv contém atributos importantes para identificação de um filme."
   ]
  },
  {
   "cell_type": "code",
   "execution_count": 3,
   "metadata": {
    "tags": []
   },
   "outputs": [
    {
     "output_type": "execute_result",
     "data": {
      "text/plain": "   adult                              belongs_to_collection    budget  \\\n0  False  {'id': 10194, 'name': 'Toy Story Collection', ...  30000000   \n1  False                                                NaN  65000000   \n2  False  {'id': 119050, 'name': 'Grumpy Old Men Collect...         0   \n3  False                                                NaN  16000000   \n4  False  {'id': 96871, 'name': 'Father of the Bride Col...         0   \n\n                                              genres     id    imdb_id  \\\n0  [{'id': 16, 'name': 'Animation'}, {'id': 35, '...    862  tt0114709   \n1  [{'id': 12, 'name': 'Adventure'}, {'id': 14, '...   8844  tt0113497   \n2  [{'id': 10749, 'name': 'Romance'}, {'id': 35, ...  15602  tt0113228   \n3  [{'id': 35, 'name': 'Comedy'}, {'id': 18, 'nam...  31357  tt0114885   \n4                     [{'id': 35, 'name': 'Comedy'}]  11862  tt0113041   \n\n  original_language               original_title  \\\n0                en                    Toy Story   \n1                en                      Jumanji   \n2                en             Grumpier Old Men   \n3                en            Waiting to Exhale   \n4                en  Father of the Bride Part II   \n\n                                            overview popularity release_date  \\\n0  Led by Woody, Andy's toys live happily in his ...  21.946943   1995-10-30   \n1  When siblings Judy and Peter discover an encha...  17.015539   1995-12-15   \n2  A family wedding reignites the ancient feud be...    11.7129   1995-12-22   \n3  Cheated on, mistreated and stepped on, the wom...   3.859495   1995-12-22   \n4  Just when George Banks has recovered from his ...   8.387519   1995-02-10   \n\n   runtime    status                                            tagline  \n0     81.0  Released                                                NaN  \n1    104.0  Released          Roll the dice and unleash the excitement!  \n2    101.0  Released  Still Yelling. Still Fighting. Still Ready for...  \n3    127.0  Released  Friends are the people who let you be yourself...  \n4    106.0  Released  Just When His World Is Back To Normal... He's ...  ",
      "text/html": "<div>\n<style scoped>\n    .dataframe tbody tr th:only-of-type {\n        vertical-align: middle;\n    }\n\n    .dataframe tbody tr th {\n        vertical-align: top;\n    }\n\n    .dataframe thead th {\n        text-align: right;\n    }\n</style>\n<table border=\"1\" class=\"dataframe\">\n  <thead>\n    <tr style=\"text-align: right;\">\n      <th></th>\n      <th>adult</th>\n      <th>belongs_to_collection</th>\n      <th>budget</th>\n      <th>genres</th>\n      <th>id</th>\n      <th>imdb_id</th>\n      <th>original_language</th>\n      <th>original_title</th>\n      <th>overview</th>\n      <th>popularity</th>\n      <th>release_date</th>\n      <th>runtime</th>\n      <th>status</th>\n      <th>tagline</th>\n    </tr>\n  </thead>\n  <tbody>\n    <tr>\n      <th>0</th>\n      <td>False</td>\n      <td>{'id': 10194, 'name': 'Toy Story Collection', ...</td>\n      <td>30000000</td>\n      <td>[{'id': 16, 'name': 'Animation'}, {'id': 35, '...</td>\n      <td>862</td>\n      <td>tt0114709</td>\n      <td>en</td>\n      <td>Toy Story</td>\n      <td>Led by Woody, Andy's toys live happily in his ...</td>\n      <td>21.946943</td>\n      <td>1995-10-30</td>\n      <td>81.0</td>\n      <td>Released</td>\n      <td>NaN</td>\n    </tr>\n    <tr>\n      <th>1</th>\n      <td>False</td>\n      <td>NaN</td>\n      <td>65000000</td>\n      <td>[{'id': 12, 'name': 'Adventure'}, {'id': 14, '...</td>\n      <td>8844</td>\n      <td>tt0113497</td>\n      <td>en</td>\n      <td>Jumanji</td>\n      <td>When siblings Judy and Peter discover an encha...</td>\n      <td>17.015539</td>\n      <td>1995-12-15</td>\n      <td>104.0</td>\n      <td>Released</td>\n      <td>Roll the dice and unleash the excitement!</td>\n    </tr>\n    <tr>\n      <th>2</th>\n      <td>False</td>\n      <td>{'id': 119050, 'name': 'Grumpy Old Men Collect...</td>\n      <td>0</td>\n      <td>[{'id': 10749, 'name': 'Romance'}, {'id': 35, ...</td>\n      <td>15602</td>\n      <td>tt0113228</td>\n      <td>en</td>\n      <td>Grumpier Old Men</td>\n      <td>A family wedding reignites the ancient feud be...</td>\n      <td>11.7129</td>\n      <td>1995-12-22</td>\n      <td>101.0</td>\n      <td>Released</td>\n      <td>Still Yelling. Still Fighting. Still Ready for...</td>\n    </tr>\n    <tr>\n      <th>3</th>\n      <td>False</td>\n      <td>NaN</td>\n      <td>16000000</td>\n      <td>[{'id': 35, 'name': 'Comedy'}, {'id': 18, 'nam...</td>\n      <td>31357</td>\n      <td>tt0114885</td>\n      <td>en</td>\n      <td>Waiting to Exhale</td>\n      <td>Cheated on, mistreated and stepped on, the wom...</td>\n      <td>3.859495</td>\n      <td>1995-12-22</td>\n      <td>127.0</td>\n      <td>Released</td>\n      <td>Friends are the people who let you be yourself...</td>\n    </tr>\n    <tr>\n      <th>4</th>\n      <td>False</td>\n      <td>{'id': 96871, 'name': 'Father of the Bride Col...</td>\n      <td>0</td>\n      <td>[{'id': 35, 'name': 'Comedy'}]</td>\n      <td>11862</td>\n      <td>tt0113041</td>\n      <td>en</td>\n      <td>Father of the Bride Part II</td>\n      <td>Just when George Banks has recovered from his ...</td>\n      <td>8.387519</td>\n      <td>1995-02-10</td>\n      <td>106.0</td>\n      <td>Released</td>\n      <td>Just When His World Is Back To Normal... He's ...</td>\n    </tr>\n  </tbody>\n</table>\n</div>"
     },
     "metadata": {},
     "execution_count": 3
    }
   ],
   "source": [
    "movies = pd.read_csv(\n",
    "    \"movies_metadata.csv\", \n",
    "    low_memory=False,\n",
    "    usecols=[\n",
    "        \"adult\",\n",
    "        \"belongs_to_collection\",\n",
    "        \"budget\",\n",
    "        \"genres\",\n",
    "        \"id\",\n",
    "        \"imdb_id\",\n",
    "        \"original_language\",\n",
    "        \"original_title\",\n",
    "        \"overview\",\n",
    "        \"popularity\",\n",
    "        \"release_date\",\n",
    "        \"runtime\",\n",
    "        \"status\",\n",
    "        \"tagline\"\n",
    "    ]\n",
    ")\n",
    "\n",
    "movies.head()"
   ]
  },
  {
   "cell_type": "markdown",
   "metadata": {},
   "source": [
    "O arquivo ratings.csv contém as avaliações de usuários do TMDb, em notas de 0 a 5.\n",
    "\n",
    "Por enquanto, carregaremos somente o arquivo ratings_small.csv, que contém apenas parte das avaliações."
   ]
  },
  {
   "cell_type": "code",
   "execution_count": 4,
   "metadata": {},
   "outputs": [
    {
     "output_type": "execute_result",
     "data": {
      "text/plain": "   userId  movieId  rating   timestamp\n0       1       31     2.5  1260759144\n1       1     1029     3.0  1260759179\n2       1     1061     3.0  1260759182\n3       1     1129     2.0  1260759185\n4       1     1172     4.0  1260759205",
      "text/html": "<div>\n<style scoped>\n    .dataframe tbody tr th:only-of-type {\n        vertical-align: middle;\n    }\n\n    .dataframe tbody tr th {\n        vertical-align: top;\n    }\n\n    .dataframe thead th {\n        text-align: right;\n    }\n</style>\n<table border=\"1\" class=\"dataframe\">\n  <thead>\n    <tr style=\"text-align: right;\">\n      <th></th>\n      <th>userId</th>\n      <th>movieId</th>\n      <th>rating</th>\n      <th>timestamp</th>\n    </tr>\n  </thead>\n  <tbody>\n    <tr>\n      <th>0</th>\n      <td>1</td>\n      <td>31</td>\n      <td>2.5</td>\n      <td>1260759144</td>\n    </tr>\n    <tr>\n      <th>1</th>\n      <td>1</td>\n      <td>1029</td>\n      <td>3.0</td>\n      <td>1260759179</td>\n    </tr>\n    <tr>\n      <th>2</th>\n      <td>1</td>\n      <td>1061</td>\n      <td>3.0</td>\n      <td>1260759182</td>\n    </tr>\n    <tr>\n      <th>3</th>\n      <td>1</td>\n      <td>1129</td>\n      <td>2.0</td>\n      <td>1260759185</td>\n    </tr>\n    <tr>\n      <th>4</th>\n      <td>1</td>\n      <td>1172</td>\n      <td>4.0</td>\n      <td>1260759205</td>\n    </tr>\n  </tbody>\n</table>\n</div>"
     },
     "metadata": {},
     "execution_count": 4
    }
   ],
   "source": [
    "ratings = pd.read_csv(\n",
    "    \"ratings_small.csv\",\n",
    "    dtype={\n",
    "        \"userId\": \"UInt32\",\n",
    "        \"movieId\": \"UInt32\",\n",
    "        \"rating\": \"float\",\n",
    "        \"timestamp\": \"UInt32\"\n",
    "    }\n",
    ")\n",
    "\n",
    "ratings.head()"
   ]
  },
  {
   "cell_type": "markdown",
   "metadata": {},
   "source": [
    "---\n",
    "\n",
    "# Pré-processamento de dados"
   ]
  },
  {
   "cell_type": "markdown",
   "metadata": {},
   "source": [
    "## Listas de palavras-chave de filmes\n",
    "\n",
    "As palavras-chave de um filme são definidas com base em sua sinopse.\n",
    "\n",
    "Os dados de palavras-chave de filmes estão codificados como strings que representam dicionários, usando como chave um identificador numérico. Vamos transformá-los em somente vetores com as palavras-chave. Não estamos interessados em manter os identificadores pois eles não contém valor semântico, e cada palavra-chave pode ser identificada por sua própria string."
   ]
  },
  {
   "cell_type": "code",
   "execution_count": 30,
   "metadata": {},
   "outputs": [
    {
     "output_type": "execute_result",
     "data": {
      "text/plain": "      id                                           keywords\n0    862  [jealousy, toy, boy, friendship, friends, riva...\n1   8844  [board game, disappearance, based on children'...\n2  15602  [fishing, best friend, duringcreditsstinger, o...\n3  31357  [based on novel, interracial relationship, sin...\n4  11862  [baby, midlife crisis, confidence, aging, daug...",
      "text/html": "<div>\n<style scoped>\n    .dataframe tbody tr th:only-of-type {\n        vertical-align: middle;\n    }\n\n    .dataframe tbody tr th {\n        vertical-align: top;\n    }\n\n    .dataframe thead th {\n        text-align: right;\n    }\n</style>\n<table border=\"1\" class=\"dataframe\">\n  <thead>\n    <tr style=\"text-align: right;\">\n      <th></th>\n      <th>id</th>\n      <th>keywords</th>\n    </tr>\n  </thead>\n  <tbody>\n    <tr>\n      <th>0</th>\n      <td>862</td>\n      <td>[jealousy, toy, boy, friendship, friends, riva...</td>\n    </tr>\n    <tr>\n      <th>1</th>\n      <td>8844</td>\n      <td>[board game, disappearance, based on children'...</td>\n    </tr>\n    <tr>\n      <th>2</th>\n      <td>15602</td>\n      <td>[fishing, best friend, duringcreditsstinger, o...</td>\n    </tr>\n    <tr>\n      <th>3</th>\n      <td>31357</td>\n      <td>[based on novel, interracial relationship, sin...</td>\n    </tr>\n    <tr>\n      <th>4</th>\n      <td>11862</td>\n      <td>[baby, midlife crisis, confidence, aging, daug...</td>\n    </tr>\n  </tbody>\n</table>\n</div>"
     },
     "metadata": {},
     "execution_count": 30
    }
   ],
   "source": [
    "keywords_l = keywords.keywords.apply(ast.literal_eval) # Inicializa o objeto dict de cada string original\n",
    "keywords_l = keywords_l.apply(lambda arr : [keyword[\"name\"] for keyword in arr]) # Constrói um array a partir do dict\n",
    "keywords_l = pd.DataFrame({\"id\": keywords.id, \"keywords\": keywords_l}) # Inicializa novo DataFrame\n",
    "keywords_l.head()"
   ]
  },
  {
   "source": [
    "## Listas de gêneros de filmes\n",
    "\n",
    "Os gêneros de cada filme estão codificados da mesma forma que as palavras-chave."
   ],
   "cell_type": "markdown",
   "metadata": {}
  },
  {
   "cell_type": "code",
   "execution_count": 41,
   "metadata": {},
   "outputs": [
    {
     "output_type": "execute_result",
     "data": {
      "text/plain": "      id                        genres\n0    862   [Animation, Comedy, Family]\n1   8844  [Adventure, Fantasy, Family]\n2  15602             [Romance, Comedy]\n3  31357      [Comedy, Drama, Romance]\n4  11862                      [Comedy]",
      "text/html": "<div>\n<style scoped>\n    .dataframe tbody tr th:only-of-type {\n        vertical-align: middle;\n    }\n\n    .dataframe tbody tr th {\n        vertical-align: top;\n    }\n\n    .dataframe thead th {\n        text-align: right;\n    }\n</style>\n<table border=\"1\" class=\"dataframe\">\n  <thead>\n    <tr style=\"text-align: right;\">\n      <th></th>\n      <th>id</th>\n      <th>genres</th>\n    </tr>\n  </thead>\n  <tbody>\n    <tr>\n      <th>0</th>\n      <td>862</td>\n      <td>[Animation, Comedy, Family]</td>\n    </tr>\n    <tr>\n      <th>1</th>\n      <td>8844</td>\n      <td>[Adventure, Fantasy, Family]</td>\n    </tr>\n    <tr>\n      <th>2</th>\n      <td>15602</td>\n      <td>[Romance, Comedy]</td>\n    </tr>\n    <tr>\n      <th>3</th>\n      <td>31357</td>\n      <td>[Comedy, Drama, Romance]</td>\n    </tr>\n    <tr>\n      <th>4</th>\n      <td>11862</td>\n      <td>[Comedy]</td>\n    </tr>\n  </tbody>\n</table>\n</div>"
     },
     "metadata": {},
     "execution_count": 41
    }
   ],
   "source": [
    "genres_l = movies.genres.apply(ast.literal_eval) # Inicializa o objeto dict de cada string original\n",
    "genres_l = genres_l.apply(lambda arr : [genre[\"name\"] for genre in arr]) # Constrói um array a partir do dict\n",
    "genres_l = pd.DataFrame({\"id\": movies.id, \"genres\": genres_l}) # Inicializa novo DataFrame\n",
    "genres_l.head()"
   ]
  },
  {
   "cell_type": "markdown",
   "metadata": {},
   "source": [
    "Embora os dados estejam agora em um formato mais familiar para processamento, eles ainda não servem de entrada para um modelo implementado pelo módulo `scikit-learn`. Para tal, precisaremos de mais transformações.\n",
    "\n",
    "## One-Hot Encoding\n",
    "\n",
    "Uma forma de construir o sistema de recomendações é a partir do cálculo de *vizinhos próximos* de um filme, em relação aos seus gêneros e palavras-chave. Por *proximidade*, entende-se a distância euclidiana entre filmes no espaço definido por seus *atributos*. Porém, ainda não é possível definir distâncias no espaço de palavras-chave e gêneros com o formato atual desses dados.\n",
    "\n",
    "Utilizando a classe `MultiLabelBinarizer`, disponibilizada pelo módulo de preprocessamento `sklearn.preprocessing`, é possível codificar atributos categóricos em *One-Hot*. Nesse formato, tratamos os atributos como valores numéricos e, portanto, é possível calcular a distância entre instâncias com base em gênero e palavras-chave."
   ]
  },
  {
   "cell_type": "code",
   "execution_count": 31,
   "metadata": {},
   "outputs": [
    {
     "output_type": "execute_result",
     "data": {
      "text/plain": "        'comfort women'  077  10th century  1500s  15th birthday  \\\nid                                                                 \n862                   0    0             0      0              0   \n8844                  0    0             0      0              0   \n15602                 0    0             0      0              0   \n31357                 0    0             0      0              0   \n11862                 0    0             0      0              0   \n...                 ...  ...           ...    ...            ...   \n439050                0    0             0      0              0   \n111109                0    0             0      0              0   \n67758                 0    0             0      0              0   \n227506                0    0             0      0              0   \n461257                0    0             0      0              0   \n\n        15th century  16th century  17th century  18th century  1910s  ...  \\\nid                                                                     ...   \n862                0             0             0             0      0  ...   \n8844               0             0             0             0      0  ...   \n15602              0             0             0             0      0  ...   \n31357              0             0             0             0      0  ...   \n11862              0             0             0             0      0  ...   \n...              ...           ...           ...           ...    ...  ...   \n439050             0             0             0             0      0  ...   \n111109             0             0             0             0      0  ...   \n67758              0             0             0             0      0  ...   \n227506             0             0             0             0      0  ...   \n461257             0             0             0             0      0  ...   \n\n        부러진 화살  소원  알투비 : 리턴투베이스  오싹한 연애  위험한 소문  찌라시  찌라시 : 위험한 소문  카운트다운  \\\nid                                                                           \n862          0   0             0       0       0    0             0      0   \n8844         0   0             0       0       0    0             0      0   \n15602        0   0             0       0       0    0             0      0   \n31357        0   0             0       0       0    0             0      0   \n11862        0   0             0       0       0    0             0      0   \n...        ...  ..           ...     ...     ...  ...           ...    ...   \n439050       0   0             0       0       0    0             0      0   \n111109       0   0             0       0       0    0             0      0   \n67758        0   0             0       0       0    0             0      0   \n227506       0   0             0       0       0    0             0      0   \n461257       0   0             0       0       0    0             0      0   \n\n        하울링  형사 duelist  \nid                       \n862       0           0  \n8844      0           0  \n15602     0           0  \n31357     0           0  \n11862     0           0  \n...     ...         ...  \n439050    0           0  \n111109    0           0  \n67758     0           0  \n227506    0           0  \n461257    0           0  \n\n[46419 rows x 19956 columns]",
      "text/html": "<div>\n<style scoped>\n    .dataframe tbody tr th:only-of-type {\n        vertical-align: middle;\n    }\n\n    .dataframe tbody tr th {\n        vertical-align: top;\n    }\n\n    .dataframe thead th {\n        text-align: right;\n    }\n</style>\n<table border=\"1\" class=\"dataframe\">\n  <thead>\n    <tr style=\"text-align: right;\">\n      <th></th>\n      <th>'comfort women'</th>\n      <th>077</th>\n      <th>10th century</th>\n      <th>1500s</th>\n      <th>15th birthday</th>\n      <th>15th century</th>\n      <th>16th century</th>\n      <th>17th century</th>\n      <th>18th century</th>\n      <th>1910s</th>\n      <th>...</th>\n      <th>부러진 화살</th>\n      <th>소원</th>\n      <th>알투비 : 리턴투베이스</th>\n      <th>오싹한 연애</th>\n      <th>위험한 소문</th>\n      <th>찌라시</th>\n      <th>찌라시 : 위험한 소문</th>\n      <th>카운트다운</th>\n      <th>하울링</th>\n      <th>형사 duelist</th>\n    </tr>\n    <tr>\n      <th>id</th>\n      <th></th>\n      <th></th>\n      <th></th>\n      <th></th>\n      <th></th>\n      <th></th>\n      <th></th>\n      <th></th>\n      <th></th>\n      <th></th>\n      <th></th>\n      <th></th>\n      <th></th>\n      <th></th>\n      <th></th>\n      <th></th>\n      <th></th>\n      <th></th>\n      <th></th>\n      <th></th>\n      <th></th>\n    </tr>\n  </thead>\n  <tbody>\n    <tr>\n      <th>862</th>\n      <td>0</td>\n      <td>0</td>\n      <td>0</td>\n      <td>0</td>\n      <td>0</td>\n      <td>0</td>\n      <td>0</td>\n      <td>0</td>\n      <td>0</td>\n      <td>0</td>\n      <td>...</td>\n      <td>0</td>\n      <td>0</td>\n      <td>0</td>\n      <td>0</td>\n      <td>0</td>\n      <td>0</td>\n      <td>0</td>\n      <td>0</td>\n      <td>0</td>\n      <td>0</td>\n    </tr>\n    <tr>\n      <th>8844</th>\n      <td>0</td>\n      <td>0</td>\n      <td>0</td>\n      <td>0</td>\n      <td>0</td>\n      <td>0</td>\n      <td>0</td>\n      <td>0</td>\n      <td>0</td>\n      <td>0</td>\n      <td>...</td>\n      <td>0</td>\n      <td>0</td>\n      <td>0</td>\n      <td>0</td>\n      <td>0</td>\n      <td>0</td>\n      <td>0</td>\n      <td>0</td>\n      <td>0</td>\n      <td>0</td>\n    </tr>\n    <tr>\n      <th>15602</th>\n      <td>0</td>\n      <td>0</td>\n      <td>0</td>\n      <td>0</td>\n      <td>0</td>\n      <td>0</td>\n      <td>0</td>\n      <td>0</td>\n      <td>0</td>\n      <td>0</td>\n      <td>...</td>\n      <td>0</td>\n      <td>0</td>\n      <td>0</td>\n      <td>0</td>\n      <td>0</td>\n      <td>0</td>\n      <td>0</td>\n      <td>0</td>\n      <td>0</td>\n      <td>0</td>\n    </tr>\n    <tr>\n      <th>31357</th>\n      <td>0</td>\n      <td>0</td>\n      <td>0</td>\n      <td>0</td>\n      <td>0</td>\n      <td>0</td>\n      <td>0</td>\n      <td>0</td>\n      <td>0</td>\n      <td>0</td>\n      <td>...</td>\n      <td>0</td>\n      <td>0</td>\n      <td>0</td>\n      <td>0</td>\n      <td>0</td>\n      <td>0</td>\n      <td>0</td>\n      <td>0</td>\n      <td>0</td>\n      <td>0</td>\n    </tr>\n    <tr>\n      <th>11862</th>\n      <td>0</td>\n      <td>0</td>\n      <td>0</td>\n      <td>0</td>\n      <td>0</td>\n      <td>0</td>\n      <td>0</td>\n      <td>0</td>\n      <td>0</td>\n      <td>0</td>\n      <td>...</td>\n      <td>0</td>\n      <td>0</td>\n      <td>0</td>\n      <td>0</td>\n      <td>0</td>\n      <td>0</td>\n      <td>0</td>\n      <td>0</td>\n      <td>0</td>\n      <td>0</td>\n    </tr>\n    <tr>\n      <th>...</th>\n      <td>...</td>\n      <td>...</td>\n      <td>...</td>\n      <td>...</td>\n      <td>...</td>\n      <td>...</td>\n      <td>...</td>\n      <td>...</td>\n      <td>...</td>\n      <td>...</td>\n      <td>...</td>\n      <td>...</td>\n      <td>...</td>\n      <td>...</td>\n      <td>...</td>\n      <td>...</td>\n      <td>...</td>\n      <td>...</td>\n      <td>...</td>\n      <td>...</td>\n      <td>...</td>\n    </tr>\n    <tr>\n      <th>439050</th>\n      <td>0</td>\n      <td>0</td>\n      <td>0</td>\n      <td>0</td>\n      <td>0</td>\n      <td>0</td>\n      <td>0</td>\n      <td>0</td>\n      <td>0</td>\n      <td>0</td>\n      <td>...</td>\n      <td>0</td>\n      <td>0</td>\n      <td>0</td>\n      <td>0</td>\n      <td>0</td>\n      <td>0</td>\n      <td>0</td>\n      <td>0</td>\n      <td>0</td>\n      <td>0</td>\n    </tr>\n    <tr>\n      <th>111109</th>\n      <td>0</td>\n      <td>0</td>\n      <td>0</td>\n      <td>0</td>\n      <td>0</td>\n      <td>0</td>\n      <td>0</td>\n      <td>0</td>\n      <td>0</td>\n      <td>0</td>\n      <td>...</td>\n      <td>0</td>\n      <td>0</td>\n      <td>0</td>\n      <td>0</td>\n      <td>0</td>\n      <td>0</td>\n      <td>0</td>\n      <td>0</td>\n      <td>0</td>\n      <td>0</td>\n    </tr>\n    <tr>\n      <th>67758</th>\n      <td>0</td>\n      <td>0</td>\n      <td>0</td>\n      <td>0</td>\n      <td>0</td>\n      <td>0</td>\n      <td>0</td>\n      <td>0</td>\n      <td>0</td>\n      <td>0</td>\n      <td>...</td>\n      <td>0</td>\n      <td>0</td>\n      <td>0</td>\n      <td>0</td>\n      <td>0</td>\n      <td>0</td>\n      <td>0</td>\n      <td>0</td>\n      <td>0</td>\n      <td>0</td>\n    </tr>\n    <tr>\n      <th>227506</th>\n      <td>0</td>\n      <td>0</td>\n      <td>0</td>\n      <td>0</td>\n      <td>0</td>\n      <td>0</td>\n      <td>0</td>\n      <td>0</td>\n      <td>0</td>\n      <td>0</td>\n      <td>...</td>\n      <td>0</td>\n      <td>0</td>\n      <td>0</td>\n      <td>0</td>\n      <td>0</td>\n      <td>0</td>\n      <td>0</td>\n      <td>0</td>\n      <td>0</td>\n      <td>0</td>\n    </tr>\n    <tr>\n      <th>461257</th>\n      <td>0</td>\n      <td>0</td>\n      <td>0</td>\n      <td>0</td>\n      <td>0</td>\n      <td>0</td>\n      <td>0</td>\n      <td>0</td>\n      <td>0</td>\n      <td>0</td>\n      <td>...</td>\n      <td>0</td>\n      <td>0</td>\n      <td>0</td>\n      <td>0</td>\n      <td>0</td>\n      <td>0</td>\n      <td>0</td>\n      <td>0</td>\n      <td>0</td>\n      <td>0</td>\n    </tr>\n  </tbody>\n</table>\n<p>46419 rows × 19956 columns</p>\n</div>"
     },
     "metadata": {},
     "execution_count": 31
    }
   ],
   "source": [
    "from sklearn.preprocessing import MultiLabelBinarizer\n",
    "\n",
    "mlb = MultiLabelBinarizer()\n",
    "keywords_oh = pd.DataFrame(mlb.fit_transform(keywords_l.keywords), columns=mlb.classes_, index=keywords_l.id)\n",
    "keywords_oh.head()\n"
   ]
  },
  {
   "cell_type": "code",
   "execution_count": 42,
   "metadata": {},
   "outputs": [
    {
     "output_type": "execute_result",
     "data": {
      "text/plain": "       Action  Adventure  Animation  Aniplex  BROSTA TV  Carousel Productions  \\\nid                                                                              \n862         0          0          1        0          0                     0   \n8844        0          1          0        0          0                     0   \n15602       0          0          0        0          0                     0   \n31357       0          0          0        0          0                     0   \n11862       0          0          0        0          0                     0   \n\n       Comedy  Crime  Documentary  Drama  ...  Romance  Science Fiction  \\\nid                                        ...                             \n862         1      0            0      0  ...        0                0   \n8844        0      0            0      0  ...        0                0   \n15602       1      0            0      0  ...        1                0   \n31357       1      0            0      1  ...        1                0   \n11862       1      0            0      0  ...        0                0   \n\n       Sentai Filmworks  TV Movie  Telescene Film Group Productions  \\\nid                                                                    \n862                   0         0                                 0   \n8844                  0         0                                 0   \n15602                 0         0                                 0   \n31357                 0         0                                 0   \n11862                 0         0                                 0   \n\n       The Cartel  Thriller  Vision View Entertainment  War  Western  \nid                                                                    \n862             0         0                          0    0        0  \n8844            0         0                          0    0        0  \n15602           0         0                          0    0        0  \n31357           0         0                          0    0        0  \n11862           0         0                          0    0        0  \n\n[5 rows x 32 columns]",
      "text/html": "<div>\n<style scoped>\n    .dataframe tbody tr th:only-of-type {\n        vertical-align: middle;\n    }\n\n    .dataframe tbody tr th {\n        vertical-align: top;\n    }\n\n    .dataframe thead th {\n        text-align: right;\n    }\n</style>\n<table border=\"1\" class=\"dataframe\">\n  <thead>\n    <tr style=\"text-align: right;\">\n      <th></th>\n      <th>Action</th>\n      <th>Adventure</th>\n      <th>Animation</th>\n      <th>Aniplex</th>\n      <th>BROSTA TV</th>\n      <th>Carousel Productions</th>\n      <th>Comedy</th>\n      <th>Crime</th>\n      <th>Documentary</th>\n      <th>Drama</th>\n      <th>...</th>\n      <th>Romance</th>\n      <th>Science Fiction</th>\n      <th>Sentai Filmworks</th>\n      <th>TV Movie</th>\n      <th>Telescene Film Group Productions</th>\n      <th>The Cartel</th>\n      <th>Thriller</th>\n      <th>Vision View Entertainment</th>\n      <th>War</th>\n      <th>Western</th>\n    </tr>\n    <tr>\n      <th>id</th>\n      <th></th>\n      <th></th>\n      <th></th>\n      <th></th>\n      <th></th>\n      <th></th>\n      <th></th>\n      <th></th>\n      <th></th>\n      <th></th>\n      <th></th>\n      <th></th>\n      <th></th>\n      <th></th>\n      <th></th>\n      <th></th>\n      <th></th>\n      <th></th>\n      <th></th>\n      <th></th>\n      <th></th>\n    </tr>\n  </thead>\n  <tbody>\n    <tr>\n      <th>862</th>\n      <td>0</td>\n      <td>0</td>\n      <td>1</td>\n      <td>0</td>\n      <td>0</td>\n      <td>0</td>\n      <td>1</td>\n      <td>0</td>\n      <td>0</td>\n      <td>0</td>\n      <td>...</td>\n      <td>0</td>\n      <td>0</td>\n      <td>0</td>\n      <td>0</td>\n      <td>0</td>\n      <td>0</td>\n      <td>0</td>\n      <td>0</td>\n      <td>0</td>\n      <td>0</td>\n    </tr>\n    <tr>\n      <th>8844</th>\n      <td>0</td>\n      <td>1</td>\n      <td>0</td>\n      <td>0</td>\n      <td>0</td>\n      <td>0</td>\n      <td>0</td>\n      <td>0</td>\n      <td>0</td>\n      <td>0</td>\n      <td>...</td>\n      <td>0</td>\n      <td>0</td>\n      <td>0</td>\n      <td>0</td>\n      <td>0</td>\n      <td>0</td>\n      <td>0</td>\n      <td>0</td>\n      <td>0</td>\n      <td>0</td>\n    </tr>\n    <tr>\n      <th>15602</th>\n      <td>0</td>\n      <td>0</td>\n      <td>0</td>\n      <td>0</td>\n      <td>0</td>\n      <td>0</td>\n      <td>1</td>\n      <td>0</td>\n      <td>0</td>\n      <td>0</td>\n      <td>...</td>\n      <td>1</td>\n      <td>0</td>\n      <td>0</td>\n      <td>0</td>\n      <td>0</td>\n      <td>0</td>\n      <td>0</td>\n      <td>0</td>\n      <td>0</td>\n      <td>0</td>\n    </tr>\n    <tr>\n      <th>31357</th>\n      <td>0</td>\n      <td>0</td>\n      <td>0</td>\n      <td>0</td>\n      <td>0</td>\n      <td>0</td>\n      <td>1</td>\n      <td>0</td>\n      <td>0</td>\n      <td>1</td>\n      <td>...</td>\n      <td>1</td>\n      <td>0</td>\n      <td>0</td>\n      <td>0</td>\n      <td>0</td>\n      <td>0</td>\n      <td>0</td>\n      <td>0</td>\n      <td>0</td>\n      <td>0</td>\n    </tr>\n    <tr>\n      <th>11862</th>\n      <td>0</td>\n      <td>0</td>\n      <td>0</td>\n      <td>0</td>\n      <td>0</td>\n      <td>0</td>\n      <td>1</td>\n      <td>0</td>\n      <td>0</td>\n      <td>0</td>\n      <td>...</td>\n      <td>0</td>\n      <td>0</td>\n      <td>0</td>\n      <td>0</td>\n      <td>0</td>\n      <td>0</td>\n      <td>0</td>\n      <td>0</td>\n      <td>0</td>\n      <td>0</td>\n    </tr>\n  </tbody>\n</table>\n<p>5 rows × 32 columns</p>\n</div>"
     },
     "metadata": {},
     "execution_count": 42
    }
   ],
   "source": [
    "mlb = MultiLabelBinarizer()\n",
    "genres_oh = pd.DataFrame(mlb.fit_transform(genres_l.genres), columns=mlb.classes_, index=genres_l.id)\n",
    "genres_oh.head()"
   ]
  }
 ],
 "metadata": {
  "kernelspec": {
   "display_name": "Python 3.8.2 64-bit",
   "language": "python",
   "name": "python38264bitfa455d9c457a4cbb9501c34f93830109"
  },
  "language_info": {
   "codemirror_mode": {
    "name": "ipython",
    "version": 3
   },
   "file_extension": ".py",
   "mimetype": "text/x-python",
   "name": "python",
   "nbconvert_exporter": "python",
   "pygments_lexer": "ipython3",
   "version": "3.8.2-final"
  }
 },
 "nbformat": 4,
 "nbformat_minor": 4
}